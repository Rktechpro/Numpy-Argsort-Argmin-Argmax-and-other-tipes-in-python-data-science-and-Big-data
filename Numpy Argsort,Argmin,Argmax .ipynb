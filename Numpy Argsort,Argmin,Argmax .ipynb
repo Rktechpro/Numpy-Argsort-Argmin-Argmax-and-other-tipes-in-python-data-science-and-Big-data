{
 "cells": [
  {
   "cell_type": "code",
   "execution_count": 1,
   "id": "81bc7e7e",
   "metadata": {},
   "outputs": [],
   "source": [
    "import numpy as np"
   ]
  },
  {
   "cell_type": "code",
   "execution_count": 2,
   "id": "62b33841",
   "metadata": {},
   "outputs": [],
   "source": [
    "a=np.arange(6)"
   ]
  },
  {
   "cell_type": "code",
   "execution_count": 3,
   "id": "ee53714d",
   "metadata": {},
   "outputs": [
    {
     "data": {
      "text/plain": [
       "array([0, 1, 2, 3, 4, 5])"
      ]
     },
     "execution_count": 3,
     "metadata": {},
     "output_type": "execute_result"
    }
   ],
   "source": [
    "a"
   ]
  },
  {
   "cell_type": "code",
   "execution_count": 29,
   "id": "9d8e9db8",
   "metadata": {},
   "outputs": [],
   "source": [
    "b=np.array([1,23,4,5,6,36,7,8,15,19,20,2,9,3,11,16,17,18])\n",
    "b=b.reshape(6,3)"
   ]
  },
  {
   "cell_type": "code",
   "execution_count": 30,
   "id": "bd534439",
   "metadata": {},
   "outputs": [
    {
     "data": {
      "text/plain": [
       "array([[ 1, 23,  4],\n",
       "       [ 5,  6, 36],\n",
       "       [ 7,  8, 15],\n",
       "       [19, 20,  2],\n",
       "       [ 9,  3, 11],\n",
       "       [16, 17, 18]])"
      ]
     },
     "execution_count": 30,
     "metadata": {},
     "output_type": "execute_result"
    }
   ],
   "source": [
    "b"
   ]
  },
  {
   "cell_type": "code",
   "execution_count": 31,
   "id": "159d5023",
   "metadata": {},
   "outputs": [
    {
     "data": {
      "text/plain": [
       "array([[0, 4, 3],\n",
       "       [1, 1, 0],\n",
       "       [2, 2, 4],\n",
       "       [4, 5, 2],\n",
       "       [5, 3, 5],\n",
       "       [3, 0, 1]], dtype=int64)"
      ]
     },
     "execution_count": 31,
     "metadata": {},
     "output_type": "execute_result"
    }
   ],
   "source": [
    "np.argsort(b, axis=0)"
   ]
  },
  {
   "cell_type": "code",
   "execution_count": 24,
   "id": "b37cfacf",
   "metadata": {},
   "outputs": [
    {
     "data": {
      "text/plain": [
       "0"
      ]
     },
     "execution_count": 24,
     "metadata": {},
     "output_type": "execute_result"
    }
   ],
   "source": [
    "np.argmin(b)"
   ]
  },
  {
   "cell_type": "code",
   "execution_count": 25,
   "id": "73ae7f22",
   "metadata": {},
   "outputs": [
    {
     "data": {
      "text/plain": [
       "5"
      ]
     },
     "execution_count": 25,
     "metadata": {},
     "output_type": "execute_result"
    }
   ],
   "source": [
    "np.argmax(b)"
   ]
  },
  {
   "cell_type": "code",
   "execution_count": null,
   "id": "96a8d395",
   "metadata": {},
   "outputs": [],
   "source": []
  }
 ],
 "metadata": {
  "kernelspec": {
   "display_name": "Python 3 (ipykernel)",
   "language": "python",
   "name": "python3"
  },
  "language_info": {
   "codemirror_mode": {
    "name": "ipython",
    "version": 3
   },
   "file_extension": ".py",
   "mimetype": "text/x-python",
   "name": "python",
   "nbconvert_exporter": "python",
   "pygments_lexer": "ipython3",
   "version": "3.10.1"
  }
 },
 "nbformat": 4,
 "nbformat_minor": 5
}
